{
 "cells": [
  {
   "cell_type": "markdown",
   "id": "a879ccf3",
   "metadata": {},
   "source": [
    "This notebook contains a function to combine data for all cities in a folder."
   ]
  },
  {
   "cell_type": "code",
   "execution_count": 1,
   "id": "efb36c64",
   "metadata": {},
   "outputs": [],
   "source": [
    "import pandas as pd\n",
    "import os\n",
    "import pathlib"
   ]
  },
  {
   "cell_type": "code",
   "execution_count": 2,
   "id": "08e0a482",
   "metadata": {},
   "outputs": [],
   "source": [
    "path_data_aqcin = '../data/data (aqcin)'"
   ]
  },
  {
   "cell_type": "code",
   "execution_count": 3,
   "id": "96a1b60c",
   "metadata": {},
   "outputs": [
    {
     "data": {
      "text/plain": [
       "['berlin,-germany-air-quality.csv',\n",
       " 'dresden-bergstraße,-germany-air-quality.csv',\n",
       " 'frankfurt-schwanheim,-germany-air-quality.csv',\n",
       " 'hannover,-germany-air-quality.csv',\n",
       " 'kiel-bahnhofstr.-verk., schleswig-holstein, germany-air-quality.csv',\n",
       " 'munich-air-quality.csv',\n",
       " 'potsdam-zentrum,-germany-air-quality.csv',\n",
       " 'sternschanze,-hamburg, germany-air-quality.csv',\n",
       " 'stuttgart-bad-cannstatt, germany-air-quality.csv']"
      ]
     },
     "execution_count": 3,
     "metadata": {},
     "output_type": "execute_result"
    }
   ],
   "source": [
    "os.listdir(path_data_aqcin)"
   ]
  },
  {
   "cell_type": "code",
   "execution_count": 4,
   "id": "7794e5d0",
   "metadata": {},
   "outputs": [],
   "source": [
    "def combine_all_data(path_data, ):\n",
    "    \n",
    "    \"\"\" This function combines all the data of different cities in the given path. \"\"\"\n",
    "    \n",
    "    \n",
    "    list_dfs = []\n",
    "\n",
    "    # for loop to iterate over all the files\n",
    "    for file in os.listdir(path_data):\n",
    "        try:\n",
    "            print(file)\n",
    "            # read the file\n",
    "            df_temp = pd.read_csv(os.path.join(path_data, file), parse_dates = [0]) # \n",
    "            df_temp['city'] = file[:-16]   # get city name from complete file name \n",
    "            list_dfs.append(df_temp)\n",
    "        except:\n",
    "            print('There is some issue with the files in the provided path. Please make sure that only  \\\n",
    "                   csv files for the data of different cities is present in the folder.')\n",
    "    \n",
    "    # concatenate all dataframes\n",
    "    df = pd.concat(list_dfs)\n",
    "    \n",
    "    df.reset_index(inplace = True, drop = True)\n",
    "    # shift column 'city' to second position \n",
    "    city_column = df.pop('city') \n",
    "    df.insert(1, 'city', city_column) \n",
    "    \n",
    "    \n",
    "    return df"
   ]
  },
  {
   "cell_type": "code",
   "execution_count": 5,
   "id": "3e688cc3",
   "metadata": {},
   "outputs": [
    {
     "name": "stdout",
     "output_type": "stream",
     "text": [
      "berlin,-germany-air-quality.csv\n",
      "dresden-bergstraße,-germany-air-quality.csv\n",
      "frankfurt-schwanheim,-germany-air-quality.csv\n",
      "hannover,-germany-air-quality.csv\n",
      "kiel-bahnhofstr.-verk., schleswig-holstein, germany-air-quality.csv\n",
      "munich-air-quality.csv\n",
      "potsdam-zentrum,-germany-air-quality.csv\n",
      "sternschanze,-hamburg, germany-air-quality.csv\n",
      "stuttgart-bad-cannstatt, germany-air-quality.csv\n"
     ]
    }
   ],
   "source": [
    "df_combined_all_cities = combine_all_data(path_data_aqcin)"
   ]
  },
  {
   "cell_type": "markdown",
   "id": "9f3e0f6d",
   "metadata": {},
   "source": [
    "# Data Cleaning"
   ]
  },
  {
   "cell_type": "code",
   "execution_count": 6,
   "id": "f213dc6d",
   "metadata": {},
   "outputs": [
    {
     "data": {
      "text/plain": [
       "Index(['date', 'city', ' pm25', ' pm10', ' o3', ' no2', ' co', ' so2'], dtype='object')"
      ]
     },
     "execution_count": 6,
     "metadata": {},
     "output_type": "execute_result"
    }
   ],
   "source": [
    "df_combined_all_cities.columns"
   ]
  },
  {
   "cell_type": "code",
   "execution_count": 7,
   "id": "5ba6cccf",
   "metadata": {},
   "outputs": [],
   "source": [
    "df_combined_all_cities.columns = df_combined_all_cities.columns.str.replace(' ', '')"
   ]
  },
  {
   "cell_type": "code",
   "execution_count": 8,
   "id": "ba4bf3d7",
   "metadata": {},
   "outputs": [],
   "source": [
    "df_combined_all_cities.drop(['o3', 'no2', 'co', 'so2'], axis = 1, inplace = True)"
   ]
  },
  {
   "cell_type": "code",
   "execution_count": 9,
   "id": "bc552b38",
   "metadata": {},
   "outputs": [],
   "source": [
    "df_combined_all_cities = df_combined_all_cities.sort_values(by = 'date', ascending = True)"
   ]
  },
  {
   "cell_type": "code",
   "execution_count": 10,
   "id": "a2e5095e",
   "metadata": {},
   "outputs": [],
   "source": [
    "df_combined_all_cities.reset_index(drop = True, inplace = True)"
   ]
  },
  {
   "cell_type": "code",
   "execution_count": 11,
   "id": "17eb225d",
   "metadata": {},
   "outputs": [
    {
     "data": {
      "text/html": [
       "<div>\n",
       "<style scoped>\n",
       "    .dataframe tbody tr th:only-of-type {\n",
       "        vertical-align: middle;\n",
       "    }\n",
       "\n",
       "    .dataframe tbody tr th {\n",
       "        vertical-align: top;\n",
       "    }\n",
       "\n",
       "    .dataframe thead th {\n",
       "        text-align: right;\n",
       "    }\n",
       "</style>\n",
       "<table border=\"1\" class=\"dataframe\">\n",
       "  <thead>\n",
       "    <tr style=\"text-align: right;\">\n",
       "      <th></th>\n",
       "      <th>date</th>\n",
       "      <th>city</th>\n",
       "      <th>pm25</th>\n",
       "      <th>pm10</th>\n",
       "    </tr>\n",
       "  </thead>\n",
       "  <tbody>\n",
       "    <tr>\n",
       "      <th>0</th>\n",
       "      <td>2014-08-13</td>\n",
       "      <td>munich</td>\n",
       "      <td></td>\n",
       "      <td>15</td>\n",
       "    </tr>\n",
       "    <tr>\n",
       "      <th>1</th>\n",
       "      <td>2014-08-14</td>\n",
       "      <td>munich</td>\n",
       "      <td></td>\n",
       "      <td>15</td>\n",
       "    </tr>\n",
       "    <tr>\n",
       "      <th>2</th>\n",
       "      <td>2014-08-15</td>\n",
       "      <td>munich</td>\n",
       "      <td></td>\n",
       "      <td>14</td>\n",
       "    </tr>\n",
       "    <tr>\n",
       "      <th>3</th>\n",
       "      <td>2014-08-16</td>\n",
       "      <td>munich</td>\n",
       "      <td></td>\n",
       "      <td>9</td>\n",
       "    </tr>\n",
       "    <tr>\n",
       "      <th>4</th>\n",
       "      <td>2014-08-17</td>\n",
       "      <td>dresden-bergstraße,-germany</td>\n",
       "      <td></td>\n",
       "      <td>10</td>\n",
       "    </tr>\n",
       "    <tr>\n",
       "      <th>...</th>\n",
       "      <td>...</td>\n",
       "      <td>...</td>\n",
       "      <td>...</td>\n",
       "      <td>...</td>\n",
       "    </tr>\n",
       "    <tr>\n",
       "      <th>26813</th>\n",
       "      <td>2023-12-28</td>\n",
       "      <td>berlin,-germany</td>\n",
       "      <td>40</td>\n",
       "      <td></td>\n",
       "    </tr>\n",
       "    <tr>\n",
       "      <th>26814</th>\n",
       "      <td>2023-12-28</td>\n",
       "      <td>potsdam-zentrum,-germany</td>\n",
       "      <td>21</td>\n",
       "      <td></td>\n",
       "    </tr>\n",
       "    <tr>\n",
       "      <th>26815</th>\n",
       "      <td>2023-12-28</td>\n",
       "      <td>munich</td>\n",
       "      <td>24</td>\n",
       "      <td></td>\n",
       "    </tr>\n",
       "    <tr>\n",
       "      <th>26816</th>\n",
       "      <td>2023-12-28</td>\n",
       "      <td>stuttgart-bad-cannstatt, germany</td>\n",
       "      <td>35</td>\n",
       "      <td></td>\n",
       "    </tr>\n",
       "    <tr>\n",
       "      <th>26817</th>\n",
       "      <td>2023-12-28</td>\n",
       "      <td>kiel-bahnhofstr.-verk., schleswig-holstein, ge...</td>\n",
       "      <td>14</td>\n",
       "      <td></td>\n",
       "    </tr>\n",
       "  </tbody>\n",
       "</table>\n",
       "<p>26818 rows × 4 columns</p>\n",
       "</div>"
      ],
      "text/plain": [
       "            date                                               city pm25 pm10\n",
       "0     2014-08-13                                             munich        15\n",
       "1     2014-08-14                                             munich        15\n",
       "2     2014-08-15                                             munich        14\n",
       "3     2014-08-16                                             munich         9\n",
       "4     2014-08-17                        dresden-bergstraße,-germany        10\n",
       "...          ...                                                ...  ...  ...\n",
       "26813 2023-12-28                                    berlin,-germany   40     \n",
       "26814 2023-12-28                           potsdam-zentrum,-germany   21     \n",
       "26815 2023-12-28                                             munich   24     \n",
       "26816 2023-12-28                   stuttgart-bad-cannstatt, germany   35     \n",
       "26817 2023-12-28  kiel-bahnhofstr.-verk., schleswig-holstein, ge...   14     \n",
       "\n",
       "[26818 rows x 4 columns]"
      ]
     },
     "execution_count": 11,
     "metadata": {},
     "output_type": "execute_result"
    }
   ],
   "source": [
    "df_combined_all_cities"
   ]
  },
  {
   "cell_type": "code",
   "execution_count": 12,
   "id": "d1bf1f09",
   "metadata": {},
   "outputs": [],
   "source": [
    "tmp_dir = '../data/data combined (aqcin)'\n",
    "pathlib.Path(tmp_dir).mkdir(parents=True, exist_ok=True)\n",
    "\n",
    "\n",
    "df_combined_all_cities.to_csv(os.path.join(tmp_dir, 'Combined for all german cities.csv'), index = False)"
   ]
  },
  {
   "cell_type": "code",
   "execution_count": null,
   "id": "2b2178a1",
   "metadata": {},
   "outputs": [],
   "source": []
  }
 ],
 "metadata": {
  "kernelspec": {
   "display_name": "Python 3 (ipykernel)",
   "language": "python",
   "name": "python3"
  },
  "language_info": {
   "codemirror_mode": {
    "name": "ipython",
    "version": 3
   },
   "file_extension": ".py",
   "mimetype": "text/x-python",
   "name": "python",
   "nbconvert_exporter": "python",
   "pygments_lexer": "ipython3",
   "version": "3.11.5"
  }
 },
 "nbformat": 4,
 "nbformat_minor": 5
}
